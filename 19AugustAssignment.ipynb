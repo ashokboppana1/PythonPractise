{
 "cells": [
  {
   "cell_type": "code",
   "execution_count": 17,
   "id": "12e1e855-2e4f-4c2d-b1c5-3ead647ad170",
   "metadata": {},
   "outputs": [],
   "source": [
    "#First  questions\n",
    "x,y=10,20"
   ]
  },
  {
   "cell_type": "code",
   "execution_count": 18,
   "id": "cfc92c29-e139-4c7f-a41f-b63ce3046a38",
   "metadata": {},
   "outputs": [
    {
     "data": {
      "text/plain": [
       "30"
      ]
     },
     "execution_count": 18,
     "metadata": {},
     "output_type": "execute_result"
    }
   ],
   "source": [
    "y=x+y\n",
    "y"
   ]
  },
  {
   "cell_type": "code",
   "execution_count": 19,
   "id": "a635e1c7-021f-4d57-8270-acc56ec5ad76",
   "metadata": {},
   "outputs": [
    {
     "data": {
      "text/plain": [
       "20"
      ]
     },
     "execution_count": 19,
     "metadata": {},
     "output_type": "execute_result"
    }
   ],
   "source": [
    "x=y-x\n",
    "x"
   ]
  },
  {
   "cell_type": "code",
   "execution_count": 20,
   "id": "86d9cf07-2d30-46d7-9905-0a827ba2a78f",
   "metadata": {},
   "outputs": [
    {
     "data": {
      "text/plain": [
       "10"
      ]
     },
     "execution_count": 20,
     "metadata": {},
     "output_type": "execute_result"
    }
   ],
   "source": [
    "y=y-x\n",
    "y"
   ]
  },
  {
   "cell_type": "code",
   "execution_count": 21,
   "id": "841ed94d-5e3c-49b2-88ea-8a1bf9ce9bf9",
   "metadata": {},
   "outputs": [
    {
     "data": {
      "text/plain": [
       "20"
      ]
     },
     "execution_count": 21,
     "metadata": {},
     "output_type": "execute_result"
    }
   ],
   "source": [
    "x"
   ]
  },
  {
   "cell_type": "code",
   "execution_count": 22,
   "id": "62a311b2-567b-4b3b-8dbe-fb4fd78be6fc",
   "metadata": {},
   "outputs": [
    {
     "data": {
      "text/plain": [
       "10"
      ]
     },
     "execution_count": 22,
     "metadata": {},
     "output_type": "execute_result"
    }
   ],
   "source": [
    "y"
   ]
  },
  {
   "cell_type": "code",
   "execution_count": 23,
   "id": "f347e759-d6ae-4b6b-8016-8187dd95f698",
   "metadata": {},
   "outputs": [
    {
     "name": "stdin",
     "output_type": "stream",
     "text": [
      "enter lenth 10\n",
      "enter bredth 30\n"
     ]
    },
    {
     "data": {
      "text/plain": [
       "300"
      ]
     },
     "execution_count": 23,
     "metadata": {},
     "output_type": "execute_result"
    }
   ],
   "source": [
    "#2nd Questipn\n",
    "length=int(input(\"enter lenth\"))\n",
    "bredth=int(input(\"enter bredth\"))\n",
    "area=length*bredth\n",
    "area\n"
   ]
  },
  {
   "cell_type": "code",
   "execution_count": 24,
   "id": "077b0574-9e14-4ec3-8290-05babee169ec",
   "metadata": {},
   "outputs": [
    {
     "name": "stdin",
     "output_type": "stream",
     "text": [
      "enter temrature in celcis 98.6\n"
     ]
    },
    {
     "data": {
      "text/plain": [
       "177.48"
      ]
     },
     "execution_count": 24,
     "metadata": {},
     "output_type": "execute_result"
    }
   ],
   "source": [
    "#3rd Question\n",
    "temprature_celcius=float(input(\"enter temrature in celcis\"))\n",
    "temprature_faurinhit=9/5*temprature_celcius\n",
    "\n",
    "temprature_faurinhit"
   ]
  },
  {
   "cell_type": "markdown",
   "id": "dc93c605-1c27-4d5b-9bb2-fd8d069c08cb",
   "metadata": {},
   "source": [
    "String based questions \n"
   ]
  },
  {
   "cell_type": "code",
   "execution_count": 25,
   "id": "8bd24121-d669-4cc2-b699-dbf8b252be73",
   "metadata": {},
   "outputs": [
    {
     "name": "stdin",
     "output_type": "stream",
     "text": [
      "enter string to find the length welcome to python programming\n"
     ]
    },
    {
     "data": {
      "text/plain": [
       "29"
      ]
     },
     "execution_count": 25,
     "metadata": {},
     "output_type": "execute_result"
    }
   ],
   "source": [
    "#length of the string\n",
    "input_str=str(input(\"enter string to find the length\"))\n",
    "len(input_str)\n"
   ]
  },
  {
   "cell_type": "code",
   "execution_count": 28,
   "id": "c39c57f5-7af6-4a22-b445-4bcea9f86d58",
   "metadata": {},
   "outputs": [
    {
     "name": "stdin",
     "output_type": "stream",
     "text": [
      "enter string Ashok Boppana Is A good Boy And Learning Data Sciences\\\n"
     ]
    },
    {
     "name": "stdout",
     "output_type": "stream",
     "text": [
      "no of vowels 19\n"
     ]
    }
   ],
   "source": [
    "#no of vowels in a string\n",
    "input_vowel=input(\"enter string\")\n",
    "vowels = \"AEIOUaeiou\"\n",
    "vowel_count=0\n",
    "for vowel in input_vowel:\n",
    "    if vowel in vowels:\n",
    "        vowel_count=vowel_count+1\n",
    "print(\"no of vowels\",vowel_count)      "
   ]
  },
  {
   "cell_type": "code",
   "execution_count": 30,
   "id": "0dce685b-6313-4914-aa2d-9de8d667d6c3",
   "metadata": {},
   "outputs": [
    {
     "name": "stdin",
     "output_type": "stream",
     "text": [
      "enter string to reverse ashok boppana\n"
     ]
    },
    {
     "name": "stdout",
     "output_type": "stream",
     "text": [
      "anappob kohsa\n"
     ]
    }
   ],
   "source": [
    "#reverse string\n",
    "inpur_reverse=input(\"enter string to reverse\")\n",
    "revers_string=inpur_reverse[::-1]\n",
    "print(revers_string)"
   ]
  },
  {
   "cell_type": "code",
   "execution_count": 31,
   "id": "8b428de0-5d35-4edb-a661-1a75ed8ebf7e",
   "metadata": {},
   "outputs": [
    {
     "name": "stdin",
     "output_type": "stream",
     "text": [
      "enter string aha\n"
     ]
    },
    {
     "name": "stdout",
     "output_type": "stream",
     "text": [
      "aha is palindrome\n"
     ]
    }
   ],
   "source": [
    "#palindrome string\n",
    "original_str=input(\"enter string\")\n",
    "reverse_str=original_str[::-1]\n",
    "if original_str==reverse_str:\n",
    "    print(original_str,\"is palindrome\")\n",
    "else:\n",
    "      print(original_str,\"is not a palindrome\")\n",
    "        "
   ]
  },
  {
   "cell_type": "code",
   "execution_count": 32,
   "id": "ba18633c-418b-4db5-95c4-004cf80c3cfc",
   "metadata": {},
   "outputs": [
    {
     "name": "stdin",
     "output_type": "stream",
     "text": [
      "enter string ashok is a  good learner\n"
     ]
    },
    {
     "name": "stdout",
     "output_type": "stream",
     "text": [
      "ashokisagoodlearner\n"
     ]
    }
   ],
   "source": [
    "#remove spaces from string\n",
    "input_spaces=input(\"enter string\")\n",
    "input_rmovespaces=input_spaces.replace(\" \",\"\")\n",
    "print(input_rmovespaces)"
   ]
  },
  {
   "cell_type": "code",
   "execution_count": null,
   "id": "8702161f-e73a-43eb-8b7d-9251057f1537",
   "metadata": {},
   "outputs": [],
   "source": []
  }
 ],
 "metadata": {
  "kernelspec": {
   "display_name": "Python 3 (ipykernel)",
   "language": "python",
   "name": "python3"
  },
  "language_info": {
   "codemirror_mode": {
    "name": "ipython",
    "version": 3
   },
   "file_extension": ".py",
   "mimetype": "text/x-python",
   "name": "python",
   "nbconvert_exporter": "python",
   "pygments_lexer": "ipython3",
   "version": "3.10.8"
  }
 },
 "nbformat": 4,
 "nbformat_minor": 5
}
